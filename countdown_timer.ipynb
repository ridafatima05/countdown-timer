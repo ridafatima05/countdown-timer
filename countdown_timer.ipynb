{
  "nbformat": 4,
  "nbformat_minor": 0,
  "metadata": {
    "colab": {
      "provenance": [],
      "authorship_tag": "ABX9TyP/4/qdtxNMXTaltiujlO7S",
      "include_colab_link": true
    },
    "kernelspec": {
      "name": "python3",
      "display_name": "Python 3"
    },
    "language_info": {
      "name": "python"
    }
  },
  "cells": [
    {
      "cell_type": "markdown",
      "metadata": {
        "id": "view-in-github",
        "colab_type": "text"
      },
      "source": [
        "<a href=\"https://colab.research.google.com/github/ridafatima05/countdown-timer/blob/main/countdown_timer.ipynb\" target=\"_parent\"><img src=\"https://colab.research.google.com/assets/colab-badge.svg\" alt=\"Open In Colab\"/></a>"
      ]
    },
    {
      "cell_type": "markdown",
      "source": [
        "#**Countdown Timer**"
      ],
      "metadata": {
        "id": "K4Zc8cJkOPeD"
      }
    },
    {
      "cell_type": "code",
      "source": [
        "#project #4 using python\n",
        "import time\n",
        "import sys\n",
        "\n",
        "def countdown_timer(seconds):\n",
        "    for remaining in range(seconds, -1, -1):\n",
        "        mins, sec = divmod(remaining, 60)  # Convert seconds into MM:SS format\n",
        "        time_format = f\"{mins:02d}:{sec:02d}\"\n",
        "\n",
        "        # Progress bar\n",
        "        bar_length = 30  # Adjust length of the progress bar\n",
        "        filled_length = int(bar_length * (seconds - remaining) / seconds) if seconds > 0 else 0\n",
        "        bar = \"█\" * filled_length + \"-\" * (bar_length - filled_length)\n",
        "\n",
        "        sys.stdout.write(f\"\\r{time_format} [{bar}]\")\n",
        "        sys.stdout.flush()\n",
        "        time.sleep(1)\n",
        "\n",
        "    print(\"\\nTime's Up! ⏰\")  #  after completion\n",
        "\n",
        "# User input for timer\n",
        "seconds = int(input(\"Enter time in seconds for countdown: \"))\n",
        "countdown_timer(seconds)\n",
        "\n",
        "\n",
        "print(\"Countdown Timer by Rida Fatima.\")"
      ],
      "metadata": {
        "colab": {
          "base_uri": "https://localhost:8080/"
        },
        "id": "j5KlniAaOTR1",
        "outputId": "e538d293-348d-424a-ba84-4d9b5d8dd980"
      },
      "execution_count": 6,
      "outputs": [
        {
          "output_type": "stream",
          "name": "stdout",
          "text": [
            "Enter time in seconds for countdown: 60\n",
            "00:00 [██████████████████████████████]\n",
            "Time's Up! ⏰\n"
          ]
        }
      ]
    }
  ]
}